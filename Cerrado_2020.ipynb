{
  "nbformat": 4,
  "nbformat_minor": 0,
  "metadata": {
    "colab": {
      "name": "Cerrado 2020",
      "provenance": [],
      "collapsed_sections": [],
      "authorship_tag": "ABX9TyPoEh9/rE6LeECovwJgPXvy",
      "include_colab_link": true
    },
    "kernelspec": {
      "name": "python3",
      "display_name": "Python 3"
    }
  },
  "cells": [
    {
      "cell_type": "markdown",
      "metadata": {
        "id": "view-in-github",
        "colab_type": "text"
      },
      "source": [
        "<a href=\"https://colab.research.google.com/github/rafaelnduarte/Cerrado_Basquete/blob/master/Cerrado_2020.ipynb\" target=\"_parent\"><img src=\"https://colab.research.google.com/assets/colab-badge.svg\" alt=\"Open In Colab\"/></a>"
      ]
    },
    {
      "cell_type": "markdown",
      "metadata": {
        "id": "IQ4GcnPssX12",
        "colab_type": "text"
      },
      "source": [
        "#Cerrado Basquete\n",
        " \n",
        "[<center><img alt=\"LinkedIn\" width=\"20%\" src=\"https://www.freepnglogos.com/uploads/linkedin-png-logo-23.png\n",
        "\"></center>](https://www.linkedin.com/in/rafael-n-duarte/) \n",
        "[<center><img alt=\"GitHub\" width=\"20%\" src=\"https://github.githubassets.com/images/modules/logos_page/GitHub-Logo.png\n",
        "\"></center>](https://github.com/rafaelnduarte)\n",
        "\n",
        "> O intuito deste projeto é realizar **análises estatísticas** e encontrar soluções de **Inteligência Artificial** que possam suprir a equipe técnica com insights, que possam ajudar a equipe com seu planejamento tático, técnico, desenvolvimento e contratação de jogadores, etc.\n",
        "\n",
        "\n",
        "<center><img alt=\"Cerrado Basquete\" width=\"70%\" src=\"https://scontent.fbsb4-1.fna.fbcdn.net/v/t1.0-9/13876325_1740697609531696_2785376768243641308_n.png?_nc_cat=106&_nc_oc=AQmYjLnt8XvgiNE5BPKufa3e-JPVBGONNYqfUjrdzTRj79dX81DMDA3FxOXHZo2YY8OpKtIL_lHfUbRYWKC0lMTY&_nc_ht=scontent.fbsb4-1.fna&oh=2adf231a0d124ca9e4c39d193a0ee296&oe=5E62AE67\n",
        "\"></center>"
      ]
    },
    {
      "cell_type": "code",
      "metadata": {
        "id": "u2NA-u0asl1j",
        "colab_type": "code",
        "colab": {}
      },
      "source": [
        "# importando os pacotes necessários\n",
        "import pandas as pd\n",
        "import numpy as np\n",
        "import seaborn as sns\n",
        "import matplotlib.pyplot as plt\n",
        "\n",
        "sns.set()"
      ],
      "execution_count": 0,
      "outputs": []
    },
    {
      "cell_type": "markdown",
      "metadata": {
        "id": "xvY1wBPDz76N",
        "colab_type": "text"
      },
      "source": [
        "## Análise dos Jogadores\n",
        "\n",
        "<center><img alt=\"Cerrado Basquete\" width=\"60%\" src=\"https://i.superesportes.com.br/vJHv45VIdYgr76ilyxO4unDxJdE=/smart/imgsapp.df.superesportes.com.br/app/noticia_127116951798/2019/07/03/63853/20190703115437467813o.jpg\"></center>\n",
        "\n",
        "\n",
        "#### Dicionário de variáveis\n",
        "\n",
        "* rank - Posição do jogador no ranking\n",
        "* jogador - Nome e número da camisa do jogador\n",
        "* equipe - Equipe do jogador\n",
        "* jo - Número de partidas\n",
        "* min - Média de minutos por jogo\n",
        "* ef - Média de eficiência\n",
        "* pts - Média de pontos por jogo\n",
        "* rt - Média de rebotes totais por jogo\n",
        "* as - Média de assistências por jogo\n",
        "* br - Média de bolas recuperadas por jogo (Steals)\n",
        "* to - Média de tocos por jogo\n",
        "* er - Média de erros por jogo (Turnovers)"
      ]
    },
    {
      "cell_type": "code",
      "metadata": {
        "id": "53Ss_5zNuAjU",
        "colab_type": "code",
        "colab": {
          "base_uri": "https://localhost:8080/",
          "height": 347
        },
        "outputId": "33bf48f1-9085-48ef-dfa2-758aa0eec959"
      },
      "source": [
        "df = pd.read_csv('https://raw.githubusercontent.com/rafaelnduarte/Cerrado_Basquete/master/data/cerrado_roster.csv', index_col=0)\n",
        "df.head(10)"
      ],
      "execution_count": 39,
      "outputs": [
        {
          "output_type": "execute_result",
          "data": {
            "text/html": [
              "<div>\n",
              "<style scoped>\n",
              "    .dataframe tbody tr th:only-of-type {\n",
              "        vertical-align: middle;\n",
              "    }\n",
              "\n",
              "    .dataframe tbody tr th {\n",
              "        vertical-align: top;\n",
              "    }\n",
              "\n",
              "    .dataframe thead th {\n",
              "        text-align: right;\n",
              "    }\n",
              "</style>\n",
              "<table border=\"1\" class=\"dataframe\">\n",
              "  <thead>\n",
              "    <tr style=\"text-align: right;\">\n",
              "      <th></th>\n",
              "      <th>rank</th>\n",
              "      <th>jogador</th>\n",
              "      <th>equipe</th>\n",
              "      <th>jo</th>\n",
              "      <th>min</th>\n",
              "      <th>ef</th>\n",
              "      <th>pts</th>\n",
              "      <th>rt</th>\n",
              "      <th>as</th>\n",
              "      <th>br</th>\n",
              "      <th>to</th>\n",
              "      <th>er</th>\n",
              "    </tr>\n",
              "  </thead>\n",
              "  <tbody>\n",
              "    <tr>\n",
              "      <th>0</th>\n",
              "      <td>80</td>\n",
              "      <td>Johnny #23</td>\n",
              "      <td>Cerrado Basquete</td>\n",
              "      <td>15</td>\n",
              "      <td>13.27</td>\n",
              "      <td>2.73</td>\n",
              "      <td>3.60</td>\n",
              "      <td>1.60</td>\n",
              "      <td>0.47</td>\n",
              "      <td>0.33</td>\n",
              "      <td>0.00</td>\n",
              "      <td>0.87</td>\n",
              "    </tr>\n",
              "    <tr>\n",
              "      <th>1</th>\n",
              "      <td>69</td>\n",
              "      <td>Luis #9</td>\n",
              "      <td>Cerrado Basquete</td>\n",
              "      <td>16</td>\n",
              "      <td>19.94</td>\n",
              "      <td>3.94</td>\n",
              "      <td>7.56</td>\n",
              "      <td>1.38</td>\n",
              "      <td>1.25</td>\n",
              "      <td>0.44</td>\n",
              "      <td>0.00</td>\n",
              "      <td>2.06</td>\n",
              "    </tr>\n",
              "    <tr>\n",
              "      <th>2</th>\n",
              "      <td>33</td>\n",
              "      <td>G. Servelin #3</td>\n",
              "      <td>Londrina</td>\n",
              "      <td>18</td>\n",
              "      <td>26.98</td>\n",
              "      <td>9.39</td>\n",
              "      <td>8.00</td>\n",
              "      <td>3.61</td>\n",
              "      <td>1.50</td>\n",
              "      <td>1.50</td>\n",
              "      <td>0.33</td>\n",
              "      <td>1.28</td>\n",
              "    </tr>\n",
              "    <tr>\n",
              "      <th>3</th>\n",
              "      <td>21</td>\n",
              "      <td>Ricardo #33</td>\n",
              "      <td>Londrina</td>\n",
              "      <td>18</td>\n",
              "      <td>29.38</td>\n",
              "      <td>11.83</td>\n",
              "      <td>10.83</td>\n",
              "      <td>4.72</td>\n",
              "      <td>1.28</td>\n",
              "      <td>0.67</td>\n",
              "      <td>0.11</td>\n",
              "      <td>0.44</td>\n",
              "    </tr>\n",
              "    <tr>\n",
              "      <th>4</th>\n",
              "      <td>28</td>\n",
              "      <td>Luizinho #11</td>\n",
              "      <td>UNIFACISA</td>\n",
              "      <td>25</td>\n",
              "      <td>22.23</td>\n",
              "      <td>10.40</td>\n",
              "      <td>7.44</td>\n",
              "      <td>4.24</td>\n",
              "      <td>1.68</td>\n",
              "      <td>0.96</td>\n",
              "      <td>0.28</td>\n",
              "      <td>1.08</td>\n",
              "    </tr>\n",
              "    <tr>\n",
              "      <th>5</th>\n",
              "      <td>148</td>\n",
              "      <td>Lucas #4</td>\n",
              "      <td>Minas</td>\n",
              "      <td>29</td>\n",
              "      <td>13.09</td>\n",
              "      <td>2.40</td>\n",
              "      <td>2.52</td>\n",
              "      <td>1.30</td>\n",
              "      <td>1.20</td>\n",
              "      <td>0.40</td>\n",
              "      <td>0.00</td>\n",
              "      <td>1.30</td>\n",
              "    </tr>\n",
              "    <tr>\n",
              "      <th>6</th>\n",
              "      <td>168</td>\n",
              "      <td>Mendes #30</td>\n",
              "      <td>Bauru</td>\n",
              "      <td>9</td>\n",
              "      <td>7.54</td>\n",
              "      <td>2.30</td>\n",
              "      <td>1.78</td>\n",
              "      <td>1.89</td>\n",
              "      <td>0.10</td>\n",
              "      <td>0.00</td>\n",
              "      <td>0.00</td>\n",
              "      <td>0.40</td>\n",
              "    </tr>\n",
              "    <tr>\n",
              "      <th>7</th>\n",
              "      <td>4</td>\n",
              "      <td>Rodrigo #5</td>\n",
              "      <td>America</td>\n",
              "      <td>11</td>\n",
              "      <td>25.20</td>\n",
              "      <td>10.20</td>\n",
              "      <td>12.10</td>\n",
              "      <td>4.72</td>\n",
              "      <td>1.27</td>\n",
              "      <td>0.00</td>\n",
              "      <td>0.18</td>\n",
              "      <td>1.30</td>\n",
              "    </tr>\n",
              "    <tr>\n",
              "      <th>8</th>\n",
              "      <td>120</td>\n",
              "      <td>Pablo #13</td>\n",
              "      <td>Libertad</td>\n",
              "      <td>8</td>\n",
              "      <td>21.00</td>\n",
              "      <td>5.10</td>\n",
              "      <td>8.20</td>\n",
              "      <td>3.10</td>\n",
              "      <td>0.90</td>\n",
              "      <td>0.00</td>\n",
              "      <td>0.00</td>\n",
              "      <td>0.00</td>\n",
              "    </tr>\n",
              "    <tr>\n",
              "      <th>9</th>\n",
              "      <td>30</td>\n",
              "      <td>Dida #32</td>\n",
              "      <td>Atlético Puerto Varas</td>\n",
              "      <td>8</td>\n",
              "      <td>32.12</td>\n",
              "      <td>9.00</td>\n",
              "      <td>9.00</td>\n",
              "      <td>6.25</td>\n",
              "      <td>1.62</td>\n",
              "      <td>1.00</td>\n",
              "      <td>0.25</td>\n",
              "      <td>1.87</td>\n",
              "    </tr>\n",
              "  </tbody>\n",
              "</table>\n",
              "</div>"
            ],
            "text/plain": [
              "   rank         jogador                 equipe  jo  ...    as    br    to    er\n",
              "0    80      Johnny #23       Cerrado Basquete  15  ...  0.47  0.33  0.00  0.87\n",
              "1    69         Luis #9       Cerrado Basquete  16  ...  1.25  0.44  0.00  2.06\n",
              "2    33  G. Servelin #3               Londrina  18  ...  1.50  1.50  0.33  1.28\n",
              "3    21     Ricardo #33               Londrina  18  ...  1.28  0.67  0.11  0.44\n",
              "4    28    Luizinho #11              UNIFACISA  25  ...  1.68  0.96  0.28  1.08\n",
              "5   148        Lucas #4                  Minas  29  ...  1.20  0.40  0.00  1.30\n",
              "6   168      Mendes #30                  Bauru   9  ...  0.10  0.00  0.00  0.40\n",
              "7     4      Rodrigo #5                America  11  ...  1.27  0.00  0.18  1.30\n",
              "8   120       Pablo #13               Libertad   8  ...  0.90  0.00  0.00  0.00\n",
              "9    30        Dida #32  Atlético Puerto Varas   8  ...  1.62  1.00  0.25  1.87\n",
              "\n",
              "[10 rows x 12 columns]"
            ]
          },
          "metadata": {
            "tags": []
          },
          "execution_count": 39
        }
      ]
    },
    {
      "cell_type": "code",
      "metadata": {
        "id": "TGty-l23viXI",
        "colab_type": "code",
        "colab": {
          "base_uri": "https://localhost:8080/",
          "height": 304
        },
        "outputId": "f10249f6-b1be-4037-d249-2f88d3cef4b1"
      },
      "source": [
        "# distribuição estatística dos dados dos jogadores\n",
        "print('\\t\\t\\t\\t DISTRIBUIÇÃO ESTATÍSTICA DOS JOGADORES')\n",
        "df.describe()"
      ],
      "execution_count": 45,
      "outputs": [
        {
          "output_type": "stream",
          "text": [
            "\t\t\t\t DISTRIBUIÇÃO ESTATÍSTICA DOS JOGADORES\n"
          ],
          "name": "stdout"
        },
        {
          "output_type": "execute_result",
          "data": {
            "text/html": [
              "<div>\n",
              "<style scoped>\n",
              "    .dataframe tbody tr th:only-of-type {\n",
              "        vertical-align: middle;\n",
              "    }\n",
              "\n",
              "    .dataframe tbody tr th {\n",
              "        vertical-align: top;\n",
              "    }\n",
              "\n",
              "    .dataframe thead th {\n",
              "        text-align: right;\n",
              "    }\n",
              "</style>\n",
              "<table border=\"1\" class=\"dataframe\">\n",
              "  <thead>\n",
              "    <tr style=\"text-align: right;\">\n",
              "      <th></th>\n",
              "      <th>rank</th>\n",
              "      <th>jo</th>\n",
              "      <th>min</th>\n",
              "      <th>ef</th>\n",
              "      <th>pts</th>\n",
              "      <th>rt</th>\n",
              "      <th>as</th>\n",
              "      <th>br</th>\n",
              "      <th>to</th>\n",
              "      <th>er</th>\n",
              "    </tr>\n",
              "  </thead>\n",
              "  <tbody>\n",
              "    <tr>\n",
              "      <th>count</th>\n",
              "      <td>11.000000</td>\n",
              "      <td>11.000000</td>\n",
              "      <td>11.000000</td>\n",
              "      <td>11.000000</td>\n",
              "      <td>11.000000</td>\n",
              "      <td>11.000000</td>\n",
              "      <td>11.000000</td>\n",
              "      <td>11.000000</td>\n",
              "      <td>11.000000</td>\n",
              "      <td>11.000000</td>\n",
              "    </tr>\n",
              "    <tr>\n",
              "      <th>mean</th>\n",
              "      <td>66.181818</td>\n",
              "      <td>16.363636</td>\n",
              "      <td>21.668182</td>\n",
              "      <td>7.206364</td>\n",
              "      <td>7.684545</td>\n",
              "      <td>3.446364</td>\n",
              "      <td>1.115455</td>\n",
              "      <td>0.572727</td>\n",
              "      <td>0.122727</td>\n",
              "      <td>1.218182</td>\n",
              "    </tr>\n",
              "    <tr>\n",
              "      <th>std</th>\n",
              "      <td>56.096022</td>\n",
              "      <td>7.131237</td>\n",
              "      <td>7.694525</td>\n",
              "      <td>3.919559</td>\n",
              "      <td>3.789463</td>\n",
              "      <td>1.712421</td>\n",
              "      <td>0.480091</td>\n",
              "      <td>0.497475</td>\n",
              "      <td>0.129853</td>\n",
              "      <td>0.809454</td>\n",
              "    </tr>\n",
              "    <tr>\n",
              "      <th>min</th>\n",
              "      <td>4.000000</td>\n",
              "      <td>8.000000</td>\n",
              "      <td>7.540000</td>\n",
              "      <td>2.300000</td>\n",
              "      <td>1.780000</td>\n",
              "      <td>1.300000</td>\n",
              "      <td>0.100000</td>\n",
              "      <td>0.000000</td>\n",
              "      <td>0.000000</td>\n",
              "      <td>0.000000</td>\n",
              "    </tr>\n",
              "    <tr>\n",
              "      <th>25%</th>\n",
              "      <td>27.500000</td>\n",
              "      <td>10.000000</td>\n",
              "      <td>16.605000</td>\n",
              "      <td>3.335000</td>\n",
              "      <td>5.520000</td>\n",
              "      <td>1.745000</td>\n",
              "      <td>0.950000</td>\n",
              "      <td>0.165000</td>\n",
              "      <td>0.000000</td>\n",
              "      <td>0.655000</td>\n",
              "    </tr>\n",
              "    <tr>\n",
              "      <th>50%</th>\n",
              "      <td>33.000000</td>\n",
              "      <td>16.000000</td>\n",
              "      <td>22.230000</td>\n",
              "      <td>9.000000</td>\n",
              "      <td>8.000000</td>\n",
              "      <td>3.610000</td>\n",
              "      <td>1.250000</td>\n",
              "      <td>0.440000</td>\n",
              "      <td>0.110000</td>\n",
              "      <td>1.280000</td>\n",
              "    </tr>\n",
              "    <tr>\n",
              "      <th>75%</th>\n",
              "      <td>100.000000</td>\n",
              "      <td>20.500000</td>\n",
              "      <td>27.290000</td>\n",
              "      <td>10.300000</td>\n",
              "      <td>9.915000</td>\n",
              "      <td>4.720000</td>\n",
              "      <td>1.390000</td>\n",
              "      <td>0.980000</td>\n",
              "      <td>0.225000</td>\n",
              "      <td>1.585000</td>\n",
              "    </tr>\n",
              "    <tr>\n",
              "      <th>max</th>\n",
              "      <td>168.000000</td>\n",
              "      <td>29.000000</td>\n",
              "      <td>32.120000</td>\n",
              "      <td>11.980000</td>\n",
              "      <td>13.500000</td>\n",
              "      <td>6.250000</td>\n",
              "      <td>1.680000</td>\n",
              "      <td>1.500000</td>\n",
              "      <td>0.330000</td>\n",
              "      <td>2.800000</td>\n",
              "    </tr>\n",
              "  </tbody>\n",
              "</table>\n",
              "</div>"
            ],
            "text/plain": [
              "             rank         jo        min  ...         br         to         er\n",
              "count   11.000000  11.000000  11.000000  ...  11.000000  11.000000  11.000000\n",
              "mean    66.181818  16.363636  21.668182  ...   0.572727   0.122727   1.218182\n",
              "std     56.096022   7.131237   7.694525  ...   0.497475   0.129853   0.809454\n",
              "min      4.000000   8.000000   7.540000  ...   0.000000   0.000000   0.000000\n",
              "25%     27.500000  10.000000  16.605000  ...   0.165000   0.000000   0.655000\n",
              "50%     33.000000  16.000000  22.230000  ...   0.440000   0.110000   1.280000\n",
              "75%    100.000000  20.500000  27.290000  ...   0.980000   0.225000   1.585000\n",
              "max    168.000000  29.000000  32.120000  ...   1.500000   0.330000   2.800000\n",
              "\n",
              "[8 rows x 10 columns]"
            ]
          },
          "metadata": {
            "tags": []
          },
          "execution_count": 45
        }
      ]
    },
    {
      "cell_type": "code",
      "metadata": {
        "id": "TWt6OKFkzIpk",
        "colab_type": "code",
        "colab": {
          "base_uri": "https://localhost:8080/",
          "height": 653
        },
        "outputId": "b062ef20-8694-4791-8df3-79853d344a88"
      },
      "source": [
        "# criando uma matriz de correlação\n",
        "corr = df.corr()\n",
        "\n",
        "# plotando o heatmap\n",
        "f, ax = plt.subplots(figsize=(12, 9))\n",
        "\n",
        "sns.heatmap(corr, fmt='.2f', square=True, linecolor='white', vmax=1.0, annot=False);\n",
        "plt.tight_layout()"
      ],
      "execution_count": 46,
      "outputs": [
        {
          "output_type": "display_data",
          "data": {
            "image/png": "[encoded data removed]",
            "text/plain": [
              "<Figure size 864x648 with 2 Axes>"
            ]
          },
          "metadata": {
            "tags": []
          }
        }
      ]
    },
    {
      "cell_type": "code",
      "metadata": {
        "id": "AU1fP12WzWXm",
        "colab_type": "code",
        "colab": {
          "base_uri": "https://localhost:8080/",
          "height": 646
        },
        "outputId": "9c313a41-49a6-43cf-c302-a3c83b768dbd"
      },
      "source": [
        "# número de variáveis a serem selecionadas\n",
        "k = 10\n",
        "\n",
        "# encontrando as variáveis mais correlacionadas\n",
        "cols = corr.nlargest(k, 'ef')['ef'].index\n",
        "cm = np.corrcoef(df[cols].values.T)\n",
        "\n",
        "# plotando heatmap\n",
        "f, ax = plt.subplots(figsize=(12, 9))\n",
        "sns.set(font_scale=1.25)\n",
        "hm = sns.heatmap(cm, cbar=True, annot=True, square=True, fmt='.2f', annot_kws={'size': 10}, yticklabels=cols.values, xticklabels=cols.values)\n",
        "plt.tight_layout()"
      ],
      "execution_count": 48,
      "outputs": [
        {
          "output_type": "display_data",
          "data": {
            "image/png": "[encoded data removed]",
            "text/plain": [
              "<Figure size 864x648 with 2 Axes>"
            ]
          },
          "metadata": {
            "tags": []
          }
        }
      ]
    },
    {
      "cell_type": "code",
      "metadata": {
        "id": "RylQDFkjzZc1",
        "colab_type": "code",
        "colab": {
          "base_uri": "https://localhost:8080/",
          "height": 250
        },
        "outputId": "a16d4cf4-673d-47ef-d56d-87b0e5d5048b"
      },
      "source": [
        "# média de eficiência por equipe\n",
        "print('JOGADORES POR EFICIÊNCIA')\n",
        "df.groupby(['jogador']).ef.mean().sort_values(ascending=False)[:15]"
      ],
      "execution_count": 50,
      "outputs": [
        {
          "output_type": "stream",
          "text": [
            "JOGADORES POR EFICIÊNCIA\n"
          ],
          "name": "stdout"
        },
        {
          "output_type": "execute_result",
          "data": {
            "text/plain": [
              "jogador\n",
              "Victor #1         11.98\n",
              "Ricardo #33       11.83\n",
              "Luizinho #11      10.40\n",
              "Rodrigo #5        10.20\n",
              "G. Servelin #3     9.39\n",
              "Dida #32           9.00\n",
              "Pablo #13          5.10\n",
              "Luis #9            3.94\n",
              "Johnny #23         2.73\n",
              "Lucas #4           2.40\n",
              "Mendes #30         2.30\n",
              "Name: ef, dtype: float64"
            ]
          },
          "metadata": {
            "tags": []
          },
          "execution_count": 50
        }
      ]
    },
    {
      "cell_type": "code",
      "metadata": {
        "id": "I-QUpaCRzvPh",
        "colab_type": "code",
        "colab": {}
      },
      "source": [
        ""
      ],
      "execution_count": 0,
      "outputs": []
    }
  ]
}